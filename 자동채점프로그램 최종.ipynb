{
 "cells": [
  {
   "cell_type": "code",
   "execution_count": 6,
   "metadata": {},
   "outputs": [
    {
     "name": "stdout",
     "output_type": "stream",
     "text": [
      "채점 결과 :  2604김소현.csv 의 생명과학실험.csv 과목의 총점은 82.0 점입니다\n",
      "확인 사항 : ['13.1', '20.1'] 번은 그림을 그리는 문제이므로 시험지를 확인해주세요\n",
      "틀린 문제 : ['1.2', '2.1', '3.1', '4.1', '4.4', '5.4', '6.1', '6.3.2', '7', '17.1', '18.2.3'] 번 입니다\n"
     ]
    }
   ],
   "source": [
    "import csv",
    "while True:",
        "try:",
            "subject = str(input(\"채점하시는 과목명을 입력해주세요 : \")) + \".csv\"  # 생명과학실험",
            "number = []",
            "answer = []",
            "score = []",
            "with open(subject) as f:",
                "g = csv.reader(f)",
                "for raw in g:",
                    "number.append(raw[0])",
                    "answer.append(raw[1])",
                    "score.append(raw[2])",
            "break",
        "except FileNotFoundError:",
            "print(\"잘못된 과목명을 입력하셨습니다.\n해당 과목명을 잘못 입력하셨거나 해당 과목 채점 파일이 존재하지 않습니다.\n다시 한번 입력해주세요.\")",
    "\n",
    "while True:",
        "try:",
            "stpaper = str(input(\"채점하시는 시험지의 파일명을 입력해주세요 : \"))+\".csv\"  # 2602 허민영",
            "stanswer = []",
            "with open(stpaper) as f:",
                "g = csv.reader(f)",
                "for raw in g:",
                    "stanswer.append(raw[1])",
            "break",
        "except FileNotFoundError:",
            "print(\"잘못된 시험지 파일명을 입력하셨습니다.\n해당 파일명을 잘못 입력하셨거나 해당 학생 시험지 파일이 존재하지 않습니다.\n다시 한번 입력해주세요.",
    "new = []",
    "for i in range(0, len(answer)):",
        "n = answer[i].split('/')",
        "new.append(n)",
    "\n",
    "점수 = 0",
    "오답 = []",
    "그림문제 = []",
    "for j in range(0, len(stanswer)):",
        "txt = stanswer[j].upper()",
        "sc = float(score[j])",
        "cp = True",
        "for i in range(len(new[j])):",
            "ans = new[j][i].upper()",
            "if ans in txt:",
                "cp = True",
            "if ans not in txt:",
                "cp = False",
                "오답.append(number[j])",
                "break",
            "if str(ans) == '그림생략':",
                "n = number[j]",
                "그림문제.append(n)",
        "if cp:",
            "점수 += sc",

    "print('채점 결과 : ', stpaper.split('.')[0], '의', subject.split('.')[0], '과목의 총점은', 점수, '점입니다')",
    "print('확인 사항 :', str(그림문제), '번은 그림을 그리는 문제이므로 시험지를 확인해주세요')",
    "print('틀린 문제 :', str(오답), '번 입니다')"
   ]
  },
  {
   "cell_type": "code",
   "execution_count": null,
   "metadata": {},
   "outputs": [],
   "source": []
  }
 ],
 "metadata": {
  "kernelspec": {
   "display_name": "Python 3",
   "language": "python",
   "name": "python3"
  },
  "language_info": {
   "codemirror_mode": {
    "name": "ipython",
    "version": 3
   },
   "file_extension": ".py",
   "mimetype": "text/x-python",
   "name": "python",
   "nbconvert_exporter": "python",
   "pygments_lexer": "ipython3",
   "version": "3.7.1"
  }
 },
 "nbformat": 4,
 "nbformat_minor": 2
}
